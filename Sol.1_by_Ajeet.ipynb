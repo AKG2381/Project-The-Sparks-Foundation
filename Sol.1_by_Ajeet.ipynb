{
 "cells": [
  {
   "cell_type": "markdown",
   "id": "e012ef4c",
   "metadata": {},
   "source": [
    "# **THE SPARKS FOUNDATION**\n",
    "> DATA SCIENCE & BUSINESS ANALYTICS INTERNSHIP\n",
    "\n",
    "## TASK :  Predict the percentage of a student using Supervised MACHINE LEARNING\n",
    "> By : Ajeet Kumar Gupta\n",
    "\n",
    ">      Btech, EE\n",
    ">      2022 Batch\n",
    ">      SGSITS , Indore"
   ]
  },
  {
   "cell_type": "markdown",
   "id": "0f249267",
   "metadata": {},
   "source": [
    "## Problem Statement:\n",
    "***Predict the percentage of an student based on the no. of study hours. What will be the predicted score if a student studies for 9.25 hrs/day?***"
   ]
  },
  {
   "cell_type": "markdown",
   "id": "88790d01",
   "metadata": {},
   "source": [
    "## Step1:\n",
    "***Importing the required python libraries***\n"
   ]
  },
  {
   "cell_type": "code",
   "execution_count": 1,
   "id": "8befd574",
   "metadata": {},
   "outputs": [],
   "source": [
    "import pandas as pd\n",
    "import matplotlib.pyplot as plt"
   ]
  },
  {
   "cell_type": "markdown",
   "id": "9eb34ec4",
   "metadata": {},
   "source": [
    "## Step 2:\n",
    "***Reading the data from given URL***\n"
   ]
  },
  {
   "cell_type": "code",
   "execution_count": 2,
   "id": "b97f4f2d",
   "metadata": {},
   "outputs": [],
   "source": [
    "Data = pd.read_csv('http://bit.ly/w-data')"
   ]
  },
  {
   "cell_type": "code",
   "execution_count": 3,
   "id": "944188fa",
   "metadata": {},
   "outputs": [
    {
     "data": {
      "text/html": [
       "<div>\n",
       "<style scoped>\n",
       "    .dataframe tbody tr th:only-of-type {\n",
       "        vertical-align: middle;\n",
       "    }\n",
       "\n",
       "    .dataframe tbody tr th {\n",
       "        vertical-align: top;\n",
       "    }\n",
       "\n",
       "    .dataframe thead th {\n",
       "        text-align: right;\n",
       "    }\n",
       "</style>\n",
       "<table border=\"1\" class=\"dataframe\">\n",
       "  <thead>\n",
       "    <tr style=\"text-align: right;\">\n",
       "      <th></th>\n",
       "      <th>Hours</th>\n",
       "      <th>Scores</th>\n",
       "    </tr>\n",
       "  </thead>\n",
       "  <tbody>\n",
       "    <tr>\n",
       "      <th>0</th>\n",
       "      <td>2.5</td>\n",
       "      <td>21</td>\n",
       "    </tr>\n",
       "    <tr>\n",
       "      <th>1</th>\n",
       "      <td>5.1</td>\n",
       "      <td>47</td>\n",
       "    </tr>\n",
       "    <tr>\n",
       "      <th>2</th>\n",
       "      <td>3.2</td>\n",
       "      <td>27</td>\n",
       "    </tr>\n",
       "    <tr>\n",
       "      <th>3</th>\n",
       "      <td>8.5</td>\n",
       "      <td>75</td>\n",
       "    </tr>\n",
       "    <tr>\n",
       "      <th>4</th>\n",
       "      <td>3.5</td>\n",
       "      <td>30</td>\n",
       "    </tr>\n",
       "  </tbody>\n",
       "</table>\n",
       "</div>"
      ],
      "text/plain": [
       "   Hours  Scores\n",
       "0    2.5      21\n",
       "1    5.1      47\n",
       "2    3.2      27\n",
       "3    8.5      75\n",
       "4    3.5      30"
      ]
     },
     "execution_count": 3,
     "metadata": {},
     "output_type": "execute_result"
    }
   ],
   "source": [
    "Data.head()"
   ]
  },
  {
   "cell_type": "markdown",
   "id": "d2135f06",
   "metadata": {},
   "source": [
    "## Step 3:\n",
    "***Determining `Features` (attributes) and `Labels` (output)...*** \n"
   ]
  },
  {
   "cell_type": "code",
   "execution_count": 4,
   "id": "d2480ad5",
   "metadata": {
    "scrolled": true
   },
   "outputs": [],
   "source": [
    "feature = Data['Hours']\n",
    "label = Data['Scores']"
   ]
  },
  {
   "cell_type": "markdown",
   "id": "c65269ee",
   "metadata": {},
   "source": [
    "## Step 4:\n",
    "***Visualising the given data & finding relationship btw features and labels***"
   ]
  },
  {
   "cell_type": "code",
   "execution_count": 5,
   "id": "a7b6451e",
   "metadata": {},
   "outputs": [
    {
     "data": {
      "text/plain": [
       "Text(0, 0.5, 'SCORES')"
      ]
     },
     "execution_count": 5,
     "metadata": {},
     "output_type": "execute_result"
    },
    {
     "data": {
      "image/png": "[encoded data removed]",
      "text/plain": [
       "<Figure size 432x288 with 1 Axes>"
      ]
     },
     "metadata": {
      "needs_background": "light"
     },
     "output_type": "display_data"
    }
   ],
   "source": [
    "plt.scatter(feature,label)\n",
    "plt.xlabel('HOURS')\n",
    "plt.ylabel('SCORES')"
   ]
  },
  {
   "cell_type": "code",
   "execution_count": 6,
   "id": "ad73f361",
   "metadata": {},
   "outputs": [],
   "source": [
    "feature = feature.values.reshape(len(feature),1)\n",
    "label = label.values.reshape(len(label),1)"
   ]
  },
  {
   "cell_type": "markdown",
   "id": "634d712f",
   "metadata": {},
   "source": [
    "## Step 5:\n",
    "***making training and test set***"
   ]
  },
  {
   "cell_type": "code",
   "execution_count": 7,
   "id": "3cb2b2dd",
   "metadata": {},
   "outputs": [],
   "source": [
    "train_feature = feature[:20]\n",
    "test_feature = feature[20:]\n",
    "train_label = label[:20]\n",
    "test_label = label[20:]"
   ]
  },
  {
   "cell_type": "markdown",
   "id": "1a87d4d5",
   "metadata": {},
   "source": [
    "## Step 6:\n",
    "***Training the model***"
   ]
  },
  {
   "cell_type": "code",
   "execution_count": 8,
   "id": "ae2b5bb7",
   "metadata": {},
   "outputs": [
    {
     "data": {
      "text/plain": [
       "LinearRegression()"
      ]
     },
     "execution_count": 8,
     "metadata": {},
     "output_type": "execute_result"
    }
   ],
   "source": [
    "from sklearn import linear_model\n",
    "regressor = linear_model.LinearRegression()\n",
    "regressor.fit(train_feature,train_label)\n"
   ]
  },
  {
   "cell_type": "markdown",
   "id": "a5e41915",
   "metadata": {},
   "source": [
    "## Step 7\n",
    "***Predicting the score by no. of study hours***"
   ]
  },
  {
   "cell_type": "code",
   "execution_count": 9,
   "id": "f04809c7",
   "metadata": {},
   "outputs": [
    {
     "data": {
      "text/plain": [
       "(array([[28.73632549],\n",
       "        [48.72913629],\n",
       "        [39.2087502 ],\n",
       "        [68.72194709],\n",
       "        [77.29029458]]),\n",
       " array([[30],\n",
       "        [54],\n",
       "        [35],\n",
       "        [76],\n",
       "        [86]], dtype=int64))"
      ]
     },
     "execution_count": 9,
     "metadata": {},
     "output_type": "execute_result"
    }
   ],
   "source": [
    "pr_score= regressor.predict(test_feature)\n",
    "pr_score , test_label"
   ]
  },
  {
   "cell_type": "markdown",
   "id": "8b4a04a2",
   "metadata": {},
   "source": [
    "## Step 8:\n",
    "***Visualising true value & predicted values on a 2D plot***"
   ]
  },
  {
   "cell_type": "code",
   "execution_count": 11,
   "id": "6e7c7c18",
   "metadata": {},
   "outputs": [
    {
     "data": {
      "text/plain": [
       "<matplotlib.collections.PathCollection at 0x1c546a48490>"
      ]
     },
     "execution_count": 11,
     "metadata": {},
     "output_type": "execute_result"
    },
    {
     "data": {
      "image/png": "[encoded data removed]",
      "text/plain": [
       "<Figure size 432x288 with 1 Axes>"
      ]
     },
     "metadata": {
      "needs_background": "light"
     },
     "output_type": "display_data"
    }
   ],
   "source": [
    "plt.plot(test_feature, pr_score,'g-D')\n",
    "plt.title('scores vs study hours')\n",
    "plt.xlabel('hours')\n",
    "plt.ylabel('score')\n",
    "plt.scatter(test_feature,test_label)"
   ]
  },
  {
   "cell_type": "markdown",
   "id": "6fc0e3d9",
   "metadata": {},
   "source": [
    "## Step 9:\n",
    "***Calculating error in our model***"
   ]
  },
  {
   "cell_type": "code",
   "execution_count": 12,
   "id": "affbe6fc",
   "metadata": {},
   "outputs": [],
   "source": [
    "from sklearn.metrics import mean_squared_error"
   ]
  },
  {
   "cell_type": "code",
   "execution_count": 13,
   "id": "a3042152",
   "metadata": {},
   "outputs": [
    {
     "data": {
      "text/plain": [
       "35.18429566473721"
      ]
     },
     "execution_count": 13,
     "metadata": {},
     "output_type": "execute_result"
    }
   ],
   "source": [
    "mean_squared_error(test_label,pr_score)"
   ]
  },
  {
   "cell_type": "markdown",
   "id": "99294ad0",
   "metadata": {},
   "source": [
    "## Step 10:\n",
    "**Final answer**"
   ]
  },
  {
   "cell_type": "code",
   "execution_count": 14,
   "id": "4d4a3821",
   "metadata": {},
   "outputs": [
    {
     "data": {
      "text/plain": [
       "array([[91.09485442]])"
      ]
     },
     "execution_count": 14,
     "metadata": {},
     "output_type": "execute_result"
    }
   ],
   "source": [
    "hours = 9.25\n",
    "pr_score = regressor.predict([[9.25]])\n",
    "pr_score"
   ]
  },
  {
   "cell_type": "markdown",
   "id": "4e7f610c",
   "metadata": {},
   "source": [
    "# So the predicted score = 91.09 for the student studying 9.2 hours/day"
   ]
  },
  {
   "cell_type": "code",
   "execution_count": null,
   "id": "1a801df9",
   "metadata": {},
   "outputs": [],
   "source": []
  }
 ],
 "metadata": {
  "kernelspec": {
   "display_name": "Python 3",
   "language": "python",
   "name": "python3"
  },
  "language_info": {
   "codemirror_mode": {
    "name": "ipython",
    "version": 3
   },
   "file_extension": ".py",
   "mimetype": "text/x-python",
   "name": "python",
   "nbconvert_exporter": "python",
   "pygments_lexer": "ipython3",
   "version": "3.8.8"
  }
 },
 "nbformat": 4,
 "nbformat_minor": 5
}
